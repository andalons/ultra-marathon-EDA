{
 "cells": [
  {
   "cell_type": "markdown",
   "metadata": {},
   "source": [
    "# Análisis exploratorio del Ultra Marathon Transvulcania\n",
    "\n",
    "Situada en la bucólica y agreste isla de La Palma, conocida como la isla bonita de las Canarias, la Transvulcania tiene una personalidad muy marcada, con 73 kilómetros de recorrido entre volcanes, bosques y playas de arena negra. Originariamente, este sendero fue la principal ruta de trashumancia de ganadería de La Palma y servía para comunicar las localidades más alejadas entre si."
   ]
  },
  {
   "cell_type": "markdown",
   "metadata": {},
   "source": [
    "### Librerías para el EDA"
   ]
  },
  {
   "cell_type": "code",
   "execution_count": 1,
   "metadata": {},
   "outputs": [],
   "source": [
    "import pandas as pd\n",
    "import seaborn as sns\n",
    "import numpy as np\n",
    "import matplotlib.pyplot as plt\n",
    "import scipy.stats\n",
    "from scipy.stats import pearsonr"
   ]
  },
  {
   "cell_type": "markdown",
   "metadata": {},
   "source": [
    "### Exploración inicial del dataset completo\n",
    "\n",
    "El dataset incluye un total de 7.461.226 registros de carreras de ultramaratón con 1.641.168 atletas únicos, registrados en carreras de todo el mundo entre 1798 y 2022. Puede consultarse y descargarse [aquí](https://www.kaggle.com/datasets/aiaiaidavid/the-big-dataset-of-ultra-marathon-running?select=TWO_CENTURIES_OF_UM_RACES.csv)."
   ]
  },
  {
   "cell_type": "code",
   "execution_count": 2,
   "metadata": {},
   "outputs": [
    {
     "data": {
      "text/html": [
       "<div>\n",
       "<style scoped>\n",
       "    .dataframe tbody tr th:only-of-type {\n",
       "        vertical-align: middle;\n",
       "    }\n",
       "\n",
       "    .dataframe tbody tr th {\n",
       "        vertical-align: top;\n",
       "    }\n",
       "\n",
       "    .dataframe thead th {\n",
       "        text-align: right;\n",
       "    }\n",
       "</style>\n",
       "<table border=\"1\" class=\"dataframe\">\n",
       "  <thead>\n",
       "    <tr style=\"text-align: right;\">\n",
       "      <th></th>\n",
       "      <th>Year of event</th>\n",
       "      <th>Event dates</th>\n",
       "      <th>Event name</th>\n",
       "      <th>Event distance/length</th>\n",
       "      <th>Event number of finishers</th>\n",
       "      <th>Athlete performance</th>\n",
       "      <th>Athlete club</th>\n",
       "      <th>Athlete country</th>\n",
       "      <th>Athlete year of birth</th>\n",
       "      <th>Athlete gender</th>\n",
       "      <th>Athlete age category</th>\n",
       "      <th>Athlete average speed</th>\n",
       "      <th>Athlete ID</th>\n",
       "    </tr>\n",
       "  </thead>\n",
       "  <tbody>\n",
       "    <tr>\n",
       "      <th>0</th>\n",
       "      <td>2018</td>\n",
       "      <td>06.01.2018</td>\n",
       "      <td>Selva Costera (CHI)</td>\n",
       "      <td>50km</td>\n",
       "      <td>22</td>\n",
       "      <td>4:51:39 h</td>\n",
       "      <td>Tnfrc</td>\n",
       "      <td>CHI</td>\n",
       "      <td>1978.0</td>\n",
       "      <td>M</td>\n",
       "      <td>M35</td>\n",
       "      <td>10.286</td>\n",
       "      <td>0</td>\n",
       "    </tr>\n",
       "    <tr>\n",
       "      <th>1</th>\n",
       "      <td>2018</td>\n",
       "      <td>06.01.2018</td>\n",
       "      <td>Selva Costera (CHI)</td>\n",
       "      <td>50km</td>\n",
       "      <td>22</td>\n",
       "      <td>5:15:45 h</td>\n",
       "      <td>Roberto Echeverría</td>\n",
       "      <td>CHI</td>\n",
       "      <td>1981.0</td>\n",
       "      <td>M</td>\n",
       "      <td>M35</td>\n",
       "      <td>9.501</td>\n",
       "      <td>1</td>\n",
       "    </tr>\n",
       "    <tr>\n",
       "      <th>2</th>\n",
       "      <td>2018</td>\n",
       "      <td>06.01.2018</td>\n",
       "      <td>Selva Costera (CHI)</td>\n",
       "      <td>50km</td>\n",
       "      <td>22</td>\n",
       "      <td>5:16:44 h</td>\n",
       "      <td>Puro Trail Osorno</td>\n",
       "      <td>CHI</td>\n",
       "      <td>1987.0</td>\n",
       "      <td>M</td>\n",
       "      <td>M23</td>\n",
       "      <td>9.472</td>\n",
       "      <td>2</td>\n",
       "    </tr>\n",
       "    <tr>\n",
       "      <th>3</th>\n",
       "      <td>2018</td>\n",
       "      <td>06.01.2018</td>\n",
       "      <td>Selva Costera (CHI)</td>\n",
       "      <td>50km</td>\n",
       "      <td>22</td>\n",
       "      <td>5:34:13 h</td>\n",
       "      <td>Columbia</td>\n",
       "      <td>ARG</td>\n",
       "      <td>1976.0</td>\n",
       "      <td>M</td>\n",
       "      <td>M40</td>\n",
       "      <td>8.976</td>\n",
       "      <td>3</td>\n",
       "    </tr>\n",
       "    <tr>\n",
       "      <th>4</th>\n",
       "      <td>2018</td>\n",
       "      <td>06.01.2018</td>\n",
       "      <td>Selva Costera (CHI)</td>\n",
       "      <td>50km</td>\n",
       "      <td>22</td>\n",
       "      <td>5:54:14 h</td>\n",
       "      <td>Baguales Trail</td>\n",
       "      <td>CHI</td>\n",
       "      <td>1992.0</td>\n",
       "      <td>M</td>\n",
       "      <td>M23</td>\n",
       "      <td>8.469</td>\n",
       "      <td>4</td>\n",
       "    </tr>\n",
       "  </tbody>\n",
       "</table>\n",
       "</div>"
      ],
      "text/plain": [
       "   Year of event Event dates           Event name Event distance/length  \\\n",
       "0           2018  06.01.2018  Selva Costera (CHI)                  50km   \n",
       "1           2018  06.01.2018  Selva Costera (CHI)                  50km   \n",
       "2           2018  06.01.2018  Selva Costera (CHI)                  50km   \n",
       "3           2018  06.01.2018  Selva Costera (CHI)                  50km   \n",
       "4           2018  06.01.2018  Selva Costera (CHI)                  50km   \n",
       "\n",
       "   Event number of finishers Athlete performance        Athlete club  \\\n",
       "0                         22           4:51:39 h               Tnfrc   \n",
       "1                         22           5:15:45 h  Roberto Echeverría   \n",
       "2                         22           5:16:44 h   Puro Trail Osorno   \n",
       "3                         22           5:34:13 h            Columbia   \n",
       "4                         22           5:54:14 h      Baguales Trail   \n",
       "\n",
       "  Athlete country  Athlete year of birth Athlete gender Athlete age category  \\\n",
       "0             CHI                 1978.0              M                  M35   \n",
       "1             CHI                 1981.0              M                  M35   \n",
       "2             CHI                 1987.0              M                  M23   \n",
       "3             ARG                 1976.0              M                  M40   \n",
       "4             CHI                 1992.0              M                  M23   \n",
       "\n",
       "  Athlete average speed  Athlete ID  \n",
       "0                10.286           0  \n",
       "1                 9.501           1  \n",
       "2                 9.472           2  \n",
       "3                 8.976           3  \n",
       "4                 8.469           4  "
      ]
     },
     "execution_count": 2,
     "metadata": {},
     "output_type": "execute_result"
    }
   ],
   "source": [
    "# Cargar el conjunto de datos\n",
    "df = pd.read_csv(\n",
    "    \"ultra-marathon-dataset/TWO_CENTURIES_OF_UM_RACES.csv\",\n",
    "    dtype={\"Athlete age category\": str},\n",
    "    low_memory=False  # Prevenir advertencias de tipo de datos\n",
    ")\n",
    "df.head(5)"
   ]
  },
  {
   "cell_type": "code",
   "execution_count": 3,
   "metadata": {},
   "outputs": [
    {
     "data": {
      "text/plain": [
       "(7461195, 13)"
      ]
     },
     "execution_count": 3,
     "metadata": {},
     "output_type": "execute_result"
    }
   ],
   "source": [
    "# Verificar la forma del DataFrame\n",
    "df.shape"
   ]
  },
  {
   "cell_type": "code",
   "execution_count": 4,
   "metadata": {},
   "outputs": [
    {
     "data": {
      "text/plain": [
       "Year of event                  int64\n",
       "Event dates                   object\n",
       "Event name                    object\n",
       "Event distance/length         object\n",
       "Event number of finishers      int64\n",
       "Athlete performance           object\n",
       "Athlete club                  object\n",
       "Athlete country               object\n",
       "Athlete year of birth        float64\n",
       "Athlete gender                object\n",
       "Athlete age category          object\n",
       "Athlete average speed         object\n",
       "Athlete ID                     int64\n",
       "dtype: object"
      ]
     },
     "execution_count": 4,
     "metadata": {},
     "output_type": "execute_result"
    }
   ],
   "source": [
    "# Verificar los tipos de datos\n",
    "df.dtypes"
   ]
  },
  {
   "cell_type": "code",
   "execution_count": 5,
   "metadata": {},
   "outputs": [
    {
     "name": "stdout",
     "output_type": "stream",
     "text": [
      "Cantidad de registros: 233725\n"
     ]
    }
   ],
   "source": [
    "\n",
    "# Filtrar el DataFrame para incluir solo las filas donde \"Event name\" contiene \"(ESP)\" y contar la cantidad de registros\n",
    "df_esp = df[df[\"Event name\"].str.contains(r\"\\(ESP\\)\", na=False, regex=True)]\n",
    "\n",
    "print(f\"Cantidad de registros: {len(df_esp)}\")"
   ]
  },
  {
   "cell_type": "code",
   "execution_count": 6,
   "metadata": {},
   "outputs": [
    {
     "name": "stdout",
     "output_type": "stream",
     "text": [
      "Cantidad de registros para Transvulcania: 10493\n"
     ]
    }
   ],
   "source": [
    "# Filtrar el DataFrame para incluir solo las filas donde \"Event name\" contiene \"Transvulcania\" y contar la cantidad de registros\n",
    "transvulcania = df_esp[df_esp[\"Event name\"].str.contains(\"Transvulcania\", na=False, case=False)]\n",
    "\n",
    "print(f\"Cantidad de registros para Transvulcania: {len(transvulcania)}\")"
   ]
  },
  {
   "cell_type": "markdown",
   "metadata": {},
   "source": [
    "### Exploración inicial y limpieza de los datos de Transvulcania\n",
    "\n",
    "Antes de iniciar el EDA, se realiza una pequeña exploración de los datos para determinar si existen nulos y, en caso afirmativo, tomar una decisión sobre cómo tratarlos. "
   ]
  },
  {
   "cell_type": "code",
   "execution_count": 7,
   "metadata": {},
   "outputs": [
    {
     "data": {
      "text/html": [
       "<div>\n",
       "<style scoped>\n",
       "    .dataframe tbody tr th:only-of-type {\n",
       "        vertical-align: middle;\n",
       "    }\n",
       "\n",
       "    .dataframe tbody tr th {\n",
       "        vertical-align: top;\n",
       "    }\n",
       "\n",
       "    .dataframe thead th {\n",
       "        text-align: right;\n",
       "    }\n",
       "</style>\n",
       "<table border=\"1\" class=\"dataframe\">\n",
       "  <thead>\n",
       "    <tr style=\"text-align: right;\">\n",
       "      <th></th>\n",
       "      <th>Year of event</th>\n",
       "      <th>Event dates</th>\n",
       "      <th>Event name</th>\n",
       "      <th>Event distance/length</th>\n",
       "      <th>Event number of finishers</th>\n",
       "      <th>Athlete performance</th>\n",
       "      <th>Athlete club</th>\n",
       "      <th>Athlete country</th>\n",
       "      <th>Athlete year of birth</th>\n",
       "      <th>Athlete gender</th>\n",
       "      <th>Athlete age category</th>\n",
       "      <th>Athlete average speed</th>\n",
       "      <th>Athlete ID</th>\n",
       "    </tr>\n",
       "  </thead>\n",
       "  <tbody>\n",
       "    <tr>\n",
       "      <th>303564</th>\n",
       "      <td>2018</td>\n",
       "      <td>12.05.2018</td>\n",
       "      <td>Transvulcania 2018 (ESP)</td>\n",
       "      <td>73km</td>\n",
       "      <td>1368</td>\n",
       "      <td>7:37:26 h</td>\n",
       "      <td>Chemotuga</td>\n",
       "      <td>ESP</td>\n",
       "      <td>1983.0</td>\n",
       "      <td>M</td>\n",
       "      <td>M23</td>\n",
       "      <td>9.575</td>\n",
       "      <td>129630</td>\n",
       "    </tr>\n",
       "    <tr>\n",
       "      <th>303565</th>\n",
       "      <td>2018</td>\n",
       "      <td>12.05.2018</td>\n",
       "      <td>Transvulcania 2018 (ESP)</td>\n",
       "      <td>73km</td>\n",
       "      <td>1368</td>\n",
       "      <td>7:38:22 h</td>\n",
       "      <td>Adidas Terrex</td>\n",
       "      <td>RUS</td>\n",
       "      <td>1991.0</td>\n",
       "      <td>M</td>\n",
       "      <td>M23</td>\n",
       "      <td>9.556</td>\n",
       "      <td>60760</td>\n",
       "    </tr>\n",
       "    <tr>\n",
       "      <th>303566</th>\n",
       "      <td>2018</td>\n",
       "      <td>12.05.2018</td>\n",
       "      <td>Transvulcania 2018 (ESP)</td>\n",
       "      <td>73km</td>\n",
       "      <td>1368</td>\n",
       "      <td>7:42:49 h</td>\n",
       "      <td>Hoka ONE ONE - Terre d...</td>\n",
       "      <td>FRA</td>\n",
       "      <td>1990.0</td>\n",
       "      <td>M</td>\n",
       "      <td>M23</td>\n",
       "      <td>9.464</td>\n",
       "      <td>2598</td>\n",
       "    </tr>\n",
       "    <tr>\n",
       "      <th>303567</th>\n",
       "      <td>2018</td>\n",
       "      <td>12.05.2018</td>\n",
       "      <td>Transvulcania 2018 (ESP)</td>\n",
       "      <td>73km</td>\n",
       "      <td>1368</td>\n",
       "      <td>7:44:26 h</td>\n",
       "      <td>Team Hoka ONE ONE</td>\n",
       "      <td>ITA</td>\n",
       "      <td>1977.0</td>\n",
       "      <td>M</td>\n",
       "      <td>M40</td>\n",
       "      <td>9.431</td>\n",
       "      <td>178385</td>\n",
       "    </tr>\n",
       "    <tr>\n",
       "      <th>303568</th>\n",
       "      <td>2018</td>\n",
       "      <td>12.05.2018</td>\n",
       "      <td>Transvulcania 2018 (ESP)</td>\n",
       "      <td>73km</td>\n",
       "      <td>1368</td>\n",
       "      <td>7:46:53 h</td>\n",
       "      <td>Asics</td>\n",
       "      <td>FRA</td>\n",
       "      <td>1988.0</td>\n",
       "      <td>M</td>\n",
       "      <td>M23</td>\n",
       "      <td>9.381</td>\n",
       "      <td>129631</td>\n",
       "    </tr>\n",
       "  </tbody>\n",
       "</table>\n",
       "</div>"
      ],
      "text/plain": [
       "        Year of event Event dates                Event name  \\\n",
       "303564           2018  12.05.2018  Transvulcania 2018 (ESP)   \n",
       "303565           2018  12.05.2018  Transvulcania 2018 (ESP)   \n",
       "303566           2018  12.05.2018  Transvulcania 2018 (ESP)   \n",
       "303567           2018  12.05.2018  Transvulcania 2018 (ESP)   \n",
       "303568           2018  12.05.2018  Transvulcania 2018 (ESP)   \n",
       "\n",
       "       Event distance/length  Event number of finishers Athlete performance  \\\n",
       "303564                  73km                       1368           7:37:26 h   \n",
       "303565                  73km                       1368           7:38:22 h   \n",
       "303566                  73km                       1368           7:42:49 h   \n",
       "303567                  73km                       1368           7:44:26 h   \n",
       "303568                  73km                       1368           7:46:53 h   \n",
       "\n",
       "                     Athlete club Athlete country  Athlete year of birth  \\\n",
       "303564                  Chemotuga             ESP                 1983.0   \n",
       "303565              Adidas Terrex             RUS                 1991.0   \n",
       "303566  Hoka ONE ONE - Terre d...             FRA                 1990.0   \n",
       "303567          Team Hoka ONE ONE             ITA                 1977.0   \n",
       "303568                      Asics             FRA                 1988.0   \n",
       "\n",
       "       Athlete gender Athlete age category Athlete average speed  Athlete ID  \n",
       "303564              M                  M23                 9.575      129630  \n",
       "303565              M                  M23                 9.556       60760  \n",
       "303566              M                  M23                 9.464        2598  \n",
       "303567              M                  M40                 9.431      178385  \n",
       "303568              M                  M23                 9.381      129631  "
      ]
     },
     "execution_count": 7,
     "metadata": {},
     "output_type": "execute_result"
    }
   ],
   "source": [
    "transvulcania.head(5)"
   ]
  },
  {
   "cell_type": "code",
   "execution_count": 8,
   "metadata": {},
   "outputs": [
    {
     "name": "stdout",
     "output_type": "stream",
     "text": [
      "\n",
      "Valores nulos por columna:\n",
      "Year of event                   0\n",
      "Event dates                     0\n",
      "Event name                      0\n",
      "Event distance/length           0\n",
      "Event number of finishers       0\n",
      "Athlete performance             0\n",
      "Athlete club                 4874\n",
      "Athlete country                 0\n",
      "Athlete year of birth        1843\n",
      "Athlete gender                  0\n",
      "Athlete age category         1835\n",
      "Athlete average speed           0\n",
      "Athlete ID                      0\n",
      "dtype: int64\n"
     ]
    }
   ],
   "source": [
    "# Cantidad de valores nulos por columna\n",
    "\n",
    "print(\"\\nValores nulos por columna:\")\n",
    "print(transvulcania.isnull().sum())"
   ]
  },
  {
   "cell_type": "markdown",
   "metadata": {},
   "source": [
    "Antes de decidir qué hacer con los valores nulos del \"Year of birth\" y \"Age category\", se pasa a explorar la distribución de edades para averiguar si existen outliers que deberían tenerse en cuenta."
   ]
  },
  {
   "cell_type": "code",
   "execution_count": 9,
   "metadata": {},
   "outputs": [
    {
     "data": {
      "image/png": "[encoded data removed]",
      "text/plain": [
       "<Figure size 1000x500 with 1 Axes>"
      ]
     },
     "metadata": {},
     "output_type": "display_data"
    }
   ],
   "source": [
    "# Histograma de los años de nacimiento de los atletas\n",
    "\n",
    "plt.figure(figsize=(10, 5))\n",
    "sns.histplot(transvulcania[\"Athlete year of birth\"].dropna(), bins=30, kde=True)\n",
    "plt.xlabel(\"Year of Birth\")\n",
    "plt.ylabel(\"Count\")\n",
    "plt.title(\"Distribution of Athlete Year of Birth\")\n",
    "plt.show()"
   ]
  },
  {
   "cell_type": "markdown",
   "metadata": {},
   "source": [
    "**Distribución de los datos:**\n",
    "\n",
    "El histograma muestra una distribución bastante normal con un pico entre 1970 y 1980. Hay pocos valores extremos antes de 1950 y después del 2000."
   ]
  },
  {
   "cell_type": "code",
   "execution_count": 10,
   "metadata": {},
   "outputs": [
    {
     "data": {
      "text/plain": [
       "count    8650.000000\n",
       "mean     1976.166705\n",
       "std         8.113013\n",
       "min      1943.000000\n",
       "25%      1971.000000\n",
       "50%      1976.000000\n",
       "75%      1982.000000\n",
       "max      2001.000000\n",
       "Name: Athlete year of birth, dtype: float64"
      ]
     },
     "execution_count": 10,
     "metadata": {},
     "output_type": "execute_result"
    }
   ],
   "source": [
    "# Estadísticas básicas de \"Athlete year of birth\"\n",
    "transvulcania[\"Athlete year of birth\"].describe()"
   ]
  },
  {
   "cell_type": "code",
   "execution_count": 11,
   "metadata": {},
   "outputs": [],
   "source": [
    "# Usar una imputación aleatoria dentro del IQR (1971-1982) para rellenar los valores nulos de \"Athlete year of birth\"\n",
    "\n",
    "np.random.seed(42) \n",
    "random_years = np.random.randint(1971, 1983, size=transvulcania[\"Athlete year of birth\"].isna().sum())\n",
    "transvulcania.loc[transvulcania[\"Athlete year of birth\"].isna(), \"Athlete year of birth\"] = random_years"
   ]
  },
  {
   "cell_type": "code",
   "execution_count": 12,
   "metadata": {},
   "outputs": [
    {
     "name": "stdout",
     "output_type": "stream",
     "text": [
      "Categorías de edad: ['M23' 'M40' 'M35' 'MU23' 'W35' 'W23' nan 'M45' 'M50' 'W40' 'M55' 'W50'\n",
      " 'W45' 'M65' 'M60' 'W55' 'W60' 'M70' 'WU23']\n"
     ]
    }
   ],
   "source": [
    "age_categories = transvulcania[\"Athlete age category\"].unique()\n",
    "print(\"Categorías de edad:\", age_categories)"
   ]
  },
  {
   "cell_type": "markdown",
   "metadata": {},
   "source": [
    "Parece que las categorías de edad siguen un formato basado en género y rango de edad:\n",
    "\n",
    "- \"M\" y \"W\" indican el género:\n",
    "    - M → Male (Hombres)\n",
    "    - W → Women (Mujeres)\n",
    "\n",
    "- Los números indican grupos de edad:\n",
    "    - 23, 35, 40, 45, 50, etc. → Probablemente indican la edad mínima de cada categoría.\n",
    "    - MU23 / WU23 → \"Under 23\" (Menores de 23 años)."
   ]
  },
  {
   "cell_type": "code",
   "execution_count": 13,
   "metadata": {},
   "outputs": [
    {
     "name": "stdout",
     "output_type": "stream",
     "text": [
      "Clubs: ['Chemotuga' 'Adidas Terrex' 'Hoka ONE ONE - Terre d...' ... 'Pa Que Team'\n",
      " 'Runners Point Ulm' 'Ud Makina']\n"
     ]
    }
   ],
   "source": [
    "clubs = transvulcania[\"Athlete club\"].unique()\n",
    "print(\"Clubs:\", clubs)"
   ]
  },
  {
   "cell_type": "code",
   "execution_count": null,
   "metadata": {},
   "outputs": [
    {
     "name": "stdout",
     "output_type": "stream",
     "text": [
      "Clubs no afiliados:\n",
      "['Independientemente' 'SIN Equipo' 'NO (Independiente)'\n",
      " 'NO (Independente)']\n"
     ]
    }
   ],
   "source": [
    "# Lista de términos comunes que indican que no están afiliados\n",
    "non_affiliated_terms = [\"Unaffiliated\", \"No club\", \"Self-supported\", \"Independent\", \"None\", \"No affiliation\", \"N/A\", \"None\", \"Independiente\", \"Sin club\", \"Sin afiliación\", \"Sin equipo\", \"Sin club\", \"No afiliado\", \"No club\"]\n",
    "\n",
    "# Filtrar los clubs para encontrar coincidencias con esos términos\n",
    "non_affiliated_clubs = transvulcania[transvulcania[\"Athlete club\"].str.contains('|'.join(non_affiliated_terms), case=False, na=False)]\n",
    "\n",
    "# Mostrar los resultados\n",
    "print(\"Clubs no afiliados:\")\n",
    "print(non_affiliated_clubs[\"Athlete club\"].unique())\n"
   ]
  },
  {
   "cell_type": "code",
   "execution_count": 26,
   "metadata": {},
   "outputs": [],
   "source": [
    "# Reemplazar todos esos términos por \"Unaffiliated\"\n",
    "transvulcania.loc[:,\"Athlete club\"] = transvulcania[\"Athlete club\"].replace(non_affiliated_terms, \"Unaffiliated\")"
   ]
  },
  {
   "cell_type": "code",
   "execution_count": 27,
   "metadata": {},
   "outputs": [],
   "source": [
    "# Reemplazar los valores nulos en \"Athlete club\" por \"Unaffiliated\"\n",
    "transvulcania.loc[:, \"Athlete club\"] = transvulcania[\"Athlete club\"].fillna(\"Unaffiliated\")"
   ]
  },
  {
   "cell_type": "code",
   "execution_count": 28,
   "metadata": {},
   "outputs": [
    {
     "name": "stdout",
     "output_type": "stream",
     "text": [
      "\n",
      "Valores nulos por columna:\n",
      "Year of event                   0\n",
      "Event dates                     0\n",
      "Event name                      0\n",
      "Event distance/length           0\n",
      "Event number of finishers       0\n",
      "Athlete performance             0\n",
      "Athlete club                    0\n",
      "Athlete country                 0\n",
      "Athlete year of birth           0\n",
      "Athlete gender                  0\n",
      "Athlete age category         1835\n",
      "Athlete average speed           0\n",
      "Athlete ID                      0\n",
      "dtype: int64\n"
     ]
    }
   ],
   "source": [
    "print(\"\\nValores nulos por columna:\")\n",
    "print(transvulcania.isnull().sum())"
   ]
  },
  {
   "cell_type": "code",
   "execution_count": null,
   "metadata": {},
   "outputs": [],
   "source": [
    "# Rellenar los nulos en \"Athlete age category\" utilizando el \"Athlete year of birth\" \"Athlete gender\" y \"Year of event\"\n",
    "\n",
    "def calculate_age_category(row):\n",
    "    if pd.isna(row[\"Athlete age category\"]):\n",
    "        age = row[\"Year of event\"] - row[\"Athlete year of birth\"]\n",
    "        # if age < 20:\n",
    "        #     return \"Junior\"\n",
    "        # elif 20 <= age < 40:\n",
    "        #     return \"Senior\"\n",
    "        # else:\n",
    "        #     return \"Master\"\n",
    "    else:\n",
    "        return row[\"Athlete age category\"]\n",
    "\n",
    "transvulcania[\"Athlete age category\"] = transvulcania.apply(calculate_age_category, axis=1)\n"
   ]
  },
  {
   "cell_type": "code",
   "execution_count": null,
   "metadata": {},
   "outputs": [],
   "source": [
    "# Verificar nuevamente los valores nulos\n",
    "print(\"\\nValores nulos por columna:\")\n",
    "transvulcania.isnull().sum()"
   ]
  },
  {
   "cell_type": "code",
   "execution_count": 16,
   "metadata": {},
   "outputs": [
    {
     "name": "stdout",
     "output_type": "stream",
     "text": [
      "Available years in order: [2009, 2010, 2011, 2012, 2013, 2014, 2015, 2016, 2017, 2018, 2019]\n"
     ]
    }
   ],
   "source": [
    "# Años disponibles en los datos\n",
    "\n",
    "available_years = sorted(transvulcania[\"Year of event\"].unique().tolist())\n",
    "print(\"Available years in order:\", available_years)"
   ]
  },
  {
   "cell_type": "code",
   "execution_count": 17,
   "metadata": {},
   "outputs": [
    {
     "name": "stdout",
     "output_type": "stream",
     "text": [
      "\n",
      "Cantidad de hombres y mujeres:\n",
      "Athlete gender\n",
      "M    9470\n",
      "F    1023\n",
      "Name: count, dtype: int64\n"
     ]
    }
   ],
   "source": [
    "# Distribución de género\n",
    "\n",
    "print(\"\\nCantidad de hombres y mujeres:\")\n",
    "print(transvulcania[\"Athlete gender\"].value_counts())"
   ]
  },
  {
   "cell_type": "code",
   "execution_count": null,
   "metadata": {},
   "outputs": [],
   "source": []
  }
 ],
 "metadata": {
  "kernelspec": {
   "display_name": ".venv",
   "language": "python",
   "name": "python3"
  },
  "language_info": {
   "codemirror_mode": {
    "name": "ipython",
    "version": 3
   },
   "file_extension": ".py",
   "mimetype": "text/x-python",
   "name": "python",
   "nbconvert_exporter": "python",
   "pygments_lexer": "ipython3",
   "version": "3.13.2"
  }
 },
 "nbformat": 4,
 "nbformat_minor": 2
}
